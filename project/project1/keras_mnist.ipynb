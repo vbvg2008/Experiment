{
 "cells": [
  {
   "cell_type": "code",
   "execution_count": 1,
   "metadata": {},
   "outputs": [
    {
     "name": "stderr",
     "output_type": "stream",
     "text": [
      "/home/jenno/anaconda3/lib/python3.6/site-packages/h5py/__init__.py:36: FutureWarning: Conversion of the second argument of issubdtype from `float` to `np.floating` is deprecated. In future, it will be treated as `np.float64 == np.dtype(float).type`.\n",
      "  from ._conv import register_converters as _register_converters\n"
     ]
    }
   ],
   "source": [
    "import tensorflow as tf\n",
    "import numpy as np\n",
    "from tensorflow.keras.layers import Input,Dense, Softmax\n",
    "from tensorflow.keras.models import Model"
   ]
  },
  {
   "cell_type": "code",
   "execution_count": 2,
   "metadata": {},
   "outputs": [],
   "source": [
    "#load the dataset\n",
    "(x_train, y_train), (x_test, y_test) = tf.keras.datasets.mnist.load_data('/home/jenno/Desktop/data/mnist/mnist.npz')"
   ]
  },
  {
   "cell_type": "code",
   "execution_count": 3,
   "metadata": {},
   "outputs": [],
   "source": [
    "x_train = np.reshape(x_train, (60000, 28*28))\n",
    "x_train = np.float32(x_train)/255\n",
    "y_train = np.int32(y_train)\n",
    "\n",
    "x_test = np.reshape(x_test, (10000, 28*28))\n",
    "x_test = np.float32(x_test)/255\n",
    "y_test = np.int32(y_test)"
   ]
  },
  {
   "cell_type": "code",
   "execution_count": 4,
   "metadata": {},
   "outputs": [],
   "source": [
    "#Network configuration\n",
    "num_input = 28 * 28\n",
    "num_hidden_1 = 32\n",
    "num_hidden_2 = 32\n",
    "num_ouput = 10\n",
    "num_epoch = 50\n",
    "batch_size = 128"
   ]
  },
  {
   "cell_type": "code",
   "execution_count": 5,
   "metadata": {},
   "outputs": [],
   "source": [
    "x_input = Input(shape= [num_input])\n",
    "x = Dense(32, activation='relu')(x_input)\n",
    "x = Dense(32, activation='relu')(x)\n",
    "x_output = Dense(num_ouput, activation= 'softmax')(x)\n",
    "model = Model(x_input, x_output)"
   ]
  },
  {
   "cell_type": "code",
   "execution_count": 6,
   "metadata": {},
   "outputs": [],
   "source": [
    "def get_lr_metric(optimizer):\n",
    "    def lr(y_true, y_pred):\n",
    "        return optimizer.lr\n",
    "    return lr\n",
    "\n",
    "def step_decay(epoch):\n",
    "    if epoch % 5 ==0 and epoch !=0:\n",
    "        lrate = 0.001 *0.9**(epoch/5)\n",
    "    else:\n",
    "        lrate = 0.001\n",
    "    return lrate\n",
    "\n",
    "\n",
    "optimizer=tf.keras.optimizers.Adam(0.001)\n",
    "lr_metric = get_lr_metric(optimizer)"
   ]
  },
  {
   "cell_type": "code",
   "execution_count": 7,
   "metadata": {},
   "outputs": [
    {
     "name": "stdout",
     "output_type": "stream",
     "text": [
      "_________________________________________________________________\n",
      "Layer (type)                 Output Shape              Param #   \n",
      "=================================================================\n",
      "input_1 (InputLayer)         (None, 784)               0         \n",
      "_________________________________________________________________\n",
      "dense (Dense)                (None, 32)                25120     \n",
      "_________________________________________________________________\n",
      "dense_1 (Dense)              (None, 32)                1056      \n",
      "_________________________________________________________________\n",
      "dense_2 (Dense)              (None, 10)                330       \n",
      "=================================================================\n",
      "Total params: 26,506\n",
      "Trainable params: 26,506\n",
      "Non-trainable params: 0\n",
      "_________________________________________________________________\n"
     ]
    }
   ],
   "source": [
    "model.summary()\n",
    "model.compile(loss=tf.keras.losses.categorical_crossentropy,\n",
    "              optimizer = optimizer,\n",
    "              metrics=['accuracy', lr_metric])\n",
    "y_train = tf.keras.utils.to_categorical(y_train, num_ouput)\n",
    "y_test = tf.keras.utils.to_categorical(y_test, num_ouput)"
   ]
  },
  {
   "cell_type": "code",
   "execution_count": 8,
   "metadata": {},
   "outputs": [],
   "source": [
    "tensorboard = tf.keras.callbacks.TensorBoard(log_dir='./logs/keras',\n",
    "                 histogram_freq=0, \n",
    "                 write_graph=True, \n",
    "                 write_images=False)\n",
    "\n",
    "lr_schedule = tf.keras.callbacks.LearningRateScheduler(step_decay)"
   ]
  },
  {
   "cell_type": "code",
   "execution_count": 9,
   "metadata": {
    "scrolled": false
   },
   "outputs": [
    {
     "name": "stdout",
     "output_type": "stream",
     "text": [
      "Train on 60000 samples, validate on 10000 samples\n",
      "Epoch 1/50\n",
      "60000/60000 [==============================] - 1s 21us/step - loss: 0.4810 - acc: 0.8674 - lr: 0.0010 - val_loss: 0.2362 - val_acc: 0.9333 - val_lr: 0.0010\n",
      "Epoch 2/50\n",
      "60000/60000 [==============================] - 1s 17us/step - loss: 0.2130 - acc: 0.9384 - lr: 0.0010 - val_loss: 0.1884 - val_acc: 0.9464 - val_lr: 0.0010\n",
      "Epoch 3/50\n",
      "60000/60000 [==============================] - 1s 17us/step - loss: 0.1731 - acc: 0.9503 - lr: 0.0010 - val_loss: 0.1621 - val_acc: 0.9524 - val_lr: 0.0010\n",
      "Epoch 4/50\n",
      "60000/60000 [==============================] - 1s 17us/step - loss: 0.1478 - acc: 0.9575 - lr: 0.0010 - val_loss: 0.1382 - val_acc: 0.9588 - val_lr: 0.0010\n",
      "Epoch 5/50\n",
      "60000/60000 [==============================] - 1s 17us/step - loss: 0.1287 - acc: 0.9618 - lr: 0.0010 - val_loss: 0.1318 - val_acc: 0.9611 - val_lr: 0.0010\n",
      "Epoch 6/50\n",
      "60000/60000 [==============================] - 1s 17us/step - loss: 0.1123 - acc: 0.9665 - lr: 9.0000e-04 - val_loss: 0.1265 - val_acc: 0.9633 - val_lr: 9.0000e-04\n",
      "Epoch 7/50\n",
      "60000/60000 [==============================] - 1s 17us/step - loss: 0.1036 - acc: 0.9692 - lr: 0.0010 - val_loss: 0.1262 - val_acc: 0.9621 - val_lr: 0.0010\n",
      "Epoch 8/50\n",
      "60000/60000 [==============================] - 1s 17us/step - loss: 0.0958 - acc: 0.9717 - lr: 0.0010 - val_loss: 0.1262 - val_acc: 0.9638 - val_lr: 0.0010\n",
      "Epoch 9/50\n",
      "60000/60000 [==============================] - 1s 17us/step - loss: 0.0884 - acc: 0.9740 - lr: 0.0010 - val_loss: 0.1160 - val_acc: 0.9651 - val_lr: 0.0010\n",
      "Epoch 10/50\n",
      "60000/60000 [==============================] - 1s 17us/step - loss: 0.0820 - acc: 0.9756 - lr: 0.0010 - val_loss: 0.1119 - val_acc: 0.9667 - val_lr: 0.0010\n",
      "Epoch 11/50\n",
      "60000/60000 [==============================] - 1s 17us/step - loss: 0.0728 - acc: 0.9785 - lr: 8.1000e-04 - val_loss: 0.1101 - val_acc: 0.9670 - val_lr: 8.1000e-04\n",
      "Epoch 12/50\n",
      "60000/60000 [==============================] - 1s 17us/step - loss: 0.0719 - acc: 0.9785 - lr: 0.0010 - val_loss: 0.1079 - val_acc: 0.9668 - val_lr: 0.0010\n",
      "Epoch 13/50\n",
      "60000/60000 [==============================] - 1s 17us/step - loss: 0.0663 - acc: 0.9797 - lr: 0.0010 - val_loss: 0.1092 - val_acc: 0.9690 - val_lr: 0.0010\n",
      "Epoch 14/50\n",
      "60000/60000 [==============================] - 1s 17us/step - loss: 0.0643 - acc: 0.9806 - lr: 0.0010 - val_loss: 0.1110 - val_acc: 0.9687 - val_lr: 0.0010\n",
      "Epoch 15/50\n",
      "60000/60000 [==============================] - 1s 17us/step - loss: 0.0586 - acc: 0.9825 - lr: 0.0010 - val_loss: 0.1128 - val_acc: 0.9688 - val_lr: 0.0010\n",
      "Epoch 16/50\n",
      "60000/60000 [==============================] - 1s 17us/step - loss: 0.0509 - acc: 0.9850 - lr: 7.2900e-04 - val_loss: 0.1136 - val_acc: 0.9694 - val_lr: 7.2900e-04\n",
      "Epoch 17/50\n",
      "60000/60000 [==============================] - 1s 17us/step - loss: 0.0516 - acc: 0.9846 - lr: 0.0010 - val_loss: 0.1168 - val_acc: 0.9687 - val_lr: 0.0010\n",
      "Epoch 18/50\n",
      "60000/60000 [==============================] - 1s 17us/step - loss: 0.0498 - acc: 0.9842 - lr: 0.0010 - val_loss: 0.1099 - val_acc: 0.9696 - val_lr: 0.0010\n",
      "Epoch 19/50\n",
      "60000/60000 [==============================] - 1s 17us/step - loss: 0.0477 - acc: 0.9851 - lr: 0.0010 - val_loss: 0.1120 - val_acc: 0.9715 - val_lr: 0.0010\n",
      "Epoch 20/50\n",
      "60000/60000 [==============================] - 1s 17us/step - loss: 0.0458 - acc: 0.9864 - lr: 0.0010 - val_loss: 0.1203 - val_acc: 0.9675 - val_lr: 0.0010\n",
      "Epoch 21/50\n",
      "60000/60000 [==============================] - 1s 17us/step - loss: 0.0371 - acc: 0.9894 - lr: 6.5610e-04 - val_loss: 0.1124 - val_acc: 0.9715 - val_lr: 6.5610e-04\n",
      "Epoch 22/50\n",
      "60000/60000 [==============================] - 1s 17us/step - loss: 0.0403 - acc: 0.9878 - lr: 0.0010 - val_loss: 0.1165 - val_acc: 0.9709 - val_lr: 0.0010\n",
      "Epoch 23/50\n",
      "60000/60000 [==============================] - 1s 17us/step - loss: 0.0384 - acc: 0.9880 - lr: 0.0010 - val_loss: 0.1139 - val_acc: 0.9712 - val_lr: 0.0010\n",
      "Epoch 24/50\n",
      "60000/60000 [==============================] - 1s 17us/step - loss: 0.0360 - acc: 0.9889 - lr: 0.0010 - val_loss: 0.1262 - val_acc: 0.9696 - val_lr: 0.0010\n",
      "Epoch 25/50\n",
      "60000/60000 [==============================] - 1s 17us/step - loss: 0.0344 - acc: 0.9893 - lr: 0.0010 - val_loss: 0.1232 - val_acc: 0.9690 - val_lr: 0.0010\n",
      "Epoch 26/50\n",
      "60000/60000 [==============================] - 1s 17us/step - loss: 0.0262 - acc: 0.9927 - lr: 5.9049e-04 - val_loss: 0.1199 - val_acc: 0.9716 - val_lr: 5.9049e-04\n",
      "Epoch 27/50\n",
      "60000/60000 [==============================] - 1s 17us/step - loss: 0.0316 - acc: 0.9904 - lr: 0.0010 - val_loss: 0.1312 - val_acc: 0.9698 - val_lr: 0.0010\n",
      "Epoch 28/50\n",
      "60000/60000 [==============================] - 1s 17us/step - loss: 0.0317 - acc: 0.9902 - lr: 0.0010 - val_loss: 0.1228 - val_acc: 0.9704 - val_lr: 0.0010\n",
      "Epoch 29/50\n",
      "60000/60000 [==============================] - 1s 17us/step - loss: 0.0288 - acc: 0.9914 - lr: 0.0010 - val_loss: 0.1355 - val_acc: 0.9692 - val_lr: 0.0010\n",
      "Epoch 30/50\n",
      "60000/60000 [==============================] - 1s 17us/step - loss: 0.0278 - acc: 0.9914 - lr: 0.0010 - val_loss: 0.1417 - val_acc: 0.9659 - val_lr: 0.0010\n",
      "Epoch 31/50\n",
      "60000/60000 [==============================] - 1s 17us/step - loss: 0.0194 - acc: 0.9950 - lr: 5.3144e-04 - val_loss: 0.1291 - val_acc: 0.9704 - val_lr: 5.3144e-04\n",
      "Epoch 32/50\n",
      "31872/60000 [==============>...............] - ETA: 0s - loss: 0.0221 - acc: 0.9943 - lr: 0.0010"
     ]
    },
    {
     "ename": "KeyboardInterrupt",
     "evalue": "",
     "output_type": "error",
     "traceback": [
      "\u001b[0;31m---------------------------------------------------------------------------\u001b[0m",
      "\u001b[0;31mKeyboardInterrupt\u001b[0m                         Traceback (most recent call last)",
      "\u001b[0;32m<ipython-input-9-40eda344b72b>\u001b[0m in \u001b[0;36m<module>\u001b[0;34m()\u001b[0m\n\u001b[1;32m      4\u001b[0m           \u001b[0mvalidation_data\u001b[0m\u001b[0;34m=\u001b[0m\u001b[0;34m(\u001b[0m\u001b[0mx_test\u001b[0m\u001b[0;34m,\u001b[0m \u001b[0my_test\u001b[0m\u001b[0;34m)\u001b[0m\u001b[0;34m,\u001b[0m\u001b[0;34m\u001b[0m\u001b[0m\n\u001b[1;32m      5\u001b[0m           \u001b[0mverbose\u001b[0m\u001b[0;34m=\u001b[0m\u001b[0;36m1\u001b[0m\u001b[0;34m,\u001b[0m\u001b[0;34m\u001b[0m\u001b[0m\n\u001b[0;32m----> 6\u001b[0;31m           callbacks=[tensorboard, lr_schedule])\n\u001b[0m",
      "\u001b[0;32m~/anaconda3/lib/python3.6/site-packages/tensorflow/python/keras/engine/training.py\u001b[0m in \u001b[0;36mfit\u001b[0;34m(self, x, y, batch_size, epochs, verbose, callbacks, validation_split, validation_data, shuffle, class_weight, sample_weight, initial_epoch, steps_per_epoch, validation_steps, **kwargs)\u001b[0m\n\u001b[1;32m   1346\u001b[0m           \u001b[0minitial_epoch\u001b[0m\u001b[0;34m=\u001b[0m\u001b[0minitial_epoch\u001b[0m\u001b[0;34m,\u001b[0m\u001b[0;34m\u001b[0m\u001b[0m\n\u001b[1;32m   1347\u001b[0m           \u001b[0msteps_per_epoch\u001b[0m\u001b[0;34m=\u001b[0m\u001b[0msteps_per_epoch\u001b[0m\u001b[0;34m,\u001b[0m\u001b[0;34m\u001b[0m\u001b[0m\n\u001b[0;32m-> 1348\u001b[0;31m           validation_steps=validation_steps)\n\u001b[0m\u001b[1;32m   1349\u001b[0m \u001b[0;34m\u001b[0m\u001b[0m\n\u001b[1;32m   1350\u001b[0m   def evaluate(self,\n",
      "\u001b[0;32m~/anaconda3/lib/python3.6/site-packages/tensorflow/python/keras/engine/training_arrays.py\u001b[0m in \u001b[0;36mfit_loop\u001b[0;34m(model, inputs, targets, sample_weights, batch_size, epochs, verbose, callbacks, val_inputs, val_targets, val_sample_weights, shuffle, callback_metrics, initial_epoch, steps_per_epoch, validation_steps)\u001b[0m\n\u001b[1;32m    251\u001b[0m           \u001b[0mins_batch\u001b[0m\u001b[0;34m[\u001b[0m\u001b[0mi\u001b[0m\u001b[0;34m]\u001b[0m \u001b[0;34m=\u001b[0m \u001b[0mins_batch\u001b[0m\u001b[0;34m[\u001b[0m\u001b[0mi\u001b[0m\u001b[0;34m]\u001b[0m\u001b[0;34m.\u001b[0m\u001b[0mtoarray\u001b[0m\u001b[0;34m(\u001b[0m\u001b[0;34m)\u001b[0m\u001b[0;34m\u001b[0m\u001b[0m\n\u001b[1;32m    252\u001b[0m \u001b[0;34m\u001b[0m\u001b[0m\n\u001b[0;32m--> 253\u001b[0;31m         \u001b[0mouts\u001b[0m \u001b[0;34m=\u001b[0m \u001b[0mf\u001b[0m\u001b[0;34m(\u001b[0m\u001b[0mins_batch\u001b[0m\u001b[0;34m)\u001b[0m\u001b[0;34m\u001b[0m\u001b[0m\n\u001b[0m\u001b[1;32m    254\u001b[0m         \u001b[0;32mif\u001b[0m \u001b[0;32mnot\u001b[0m \u001b[0misinstance\u001b[0m\u001b[0;34m(\u001b[0m\u001b[0mouts\u001b[0m\u001b[0;34m,\u001b[0m \u001b[0mlist\u001b[0m\u001b[0;34m)\u001b[0m\u001b[0;34m:\u001b[0m\u001b[0;34m\u001b[0m\u001b[0m\n\u001b[1;32m    255\u001b[0m           \u001b[0mouts\u001b[0m \u001b[0;34m=\u001b[0m \u001b[0;34m[\u001b[0m\u001b[0mouts\u001b[0m\u001b[0;34m]\u001b[0m\u001b[0;34m\u001b[0m\u001b[0m\n",
      "\u001b[0;32m~/anaconda3/lib/python3.6/site-packages/tensorflow/python/keras/backend.py\u001b[0m in \u001b[0;36m__call__\u001b[0;34m(self, inputs)\u001b[0m\n\u001b[1;32m   2895\u001b[0m       \u001b[0mself\u001b[0m\u001b[0;34m.\u001b[0m\u001b[0m_make_callable\u001b[0m\u001b[0;34m(\u001b[0m\u001b[0mfeed_arrays\u001b[0m\u001b[0;34m,\u001b[0m \u001b[0mfeed_symbols\u001b[0m\u001b[0;34m,\u001b[0m \u001b[0msymbol_vals\u001b[0m\u001b[0;34m,\u001b[0m \u001b[0msession\u001b[0m\u001b[0;34m)\u001b[0m\u001b[0;34m\u001b[0m\u001b[0m\n\u001b[1;32m   2896\u001b[0m \u001b[0;34m\u001b[0m\u001b[0m\n\u001b[0;32m-> 2897\u001b[0;31m     \u001b[0mfetched\u001b[0m \u001b[0;34m=\u001b[0m \u001b[0mself\u001b[0m\u001b[0;34m.\u001b[0m\u001b[0m_callable_fn\u001b[0m\u001b[0;34m(\u001b[0m\u001b[0;34m*\u001b[0m\u001b[0marray_vals\u001b[0m\u001b[0;34m)\u001b[0m\u001b[0;34m\u001b[0m\u001b[0m\n\u001b[0m\u001b[1;32m   2898\u001b[0m     \u001b[0;32mreturn\u001b[0m \u001b[0mfetched\u001b[0m\u001b[0;34m[\u001b[0m\u001b[0;34m:\u001b[0m\u001b[0mlen\u001b[0m\u001b[0;34m(\u001b[0m\u001b[0mself\u001b[0m\u001b[0;34m.\u001b[0m\u001b[0moutputs\u001b[0m\u001b[0;34m)\u001b[0m\u001b[0;34m]\u001b[0m\u001b[0;34m\u001b[0m\u001b[0m\n\u001b[1;32m   2899\u001b[0m \u001b[0;34m\u001b[0m\u001b[0m\n",
      "\u001b[0;32m~/anaconda3/lib/python3.6/site-packages/tensorflow/python/client/session.py\u001b[0m in \u001b[0;36m__call__\u001b[0;34m(self, *args)\u001b[0m\n\u001b[1;32m   1449\u001b[0m         \u001b[0;32mif\u001b[0m \u001b[0mself\u001b[0m\u001b[0;34m.\u001b[0m\u001b[0m_session\u001b[0m\u001b[0;34m.\u001b[0m\u001b[0m_created_with_new_api\u001b[0m\u001b[0;34m:\u001b[0m\u001b[0;34m\u001b[0m\u001b[0m\n\u001b[1;32m   1450\u001b[0m           return tf_session.TF_SessionRunCallable(\n\u001b[0;32m-> 1451\u001b[0;31m               self._session._session, self._handle, args, status, None)\n\u001b[0m\u001b[1;32m   1452\u001b[0m         \u001b[0;32melse\u001b[0m\u001b[0;34m:\u001b[0m\u001b[0;34m\u001b[0m\u001b[0m\n\u001b[1;32m   1453\u001b[0m           return tf_session.TF_DeprecatedSessionRunCallable(\n",
      "\u001b[0;31mKeyboardInterrupt\u001b[0m: "
     ]
    }
   ],
   "source": [
    "model.fit(x_train, y_train,\n",
    "          batch_size=batch_size,\n",
    "          epochs=num_epoch,\n",
    "          validation_data=(x_test, y_test),\n",
    "          verbose=1,\n",
    "          callbacks=[tensorboard, lr_schedule])"
   ]
  },
  {
   "cell_type": "code",
   "execution_count": null,
   "metadata": {},
   "outputs": [],
   "source": []
  }
 ],
 "metadata": {
  "kernelspec": {
   "display_name": "Python 3",
   "language": "python",
   "name": "python3"
  },
  "language_info": {
   "codemirror_mode": {
    "name": "ipython",
    "version": 3
   },
   "file_extension": ".py",
   "mimetype": "text/x-python",
   "name": "python",
   "nbconvert_exporter": "python",
   "pygments_lexer": "ipython3",
   "version": "3.6.4"
  }
 },
 "nbformat": 4,
 "nbformat_minor": 2
}
